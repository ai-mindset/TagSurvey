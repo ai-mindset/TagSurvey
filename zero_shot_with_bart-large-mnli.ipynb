{
 "cells": [
  {
   "cell_type": "code",
   "execution_count": null,
   "metadata": {},
   "outputs": [],
   "source": [
    "import pandas as pd\n",
    "pd.set_option('display.max_colwidth', 150)"
   ]
  },
  {
   "cell_type": "code",
   "execution_count": null,
   "metadata": {},
   "outputs": [],
   "source": [
    "data = pd.read_excel(filename, header=0)\n",
    "data = data[data.columns[1]]\n",
    "data = data[data.notna()]\n",
    "data.head()"
   ]
  },
  {
   "cell_type": "code",
   "execution_count": null,
   "metadata": {},
   "outputs": [],
   "source": [
    "with open(\"data/labels.txt\") as f:\n",
    "    labels = [line.rstrip() for line in f]\n",
    "\n",
    "labels"
   ]
  },
  {
   "cell_type": "markdown",
   "metadata": {},
   "source": [
    "## Use pipeline for simplicity. \n",
    "\n",
    "Also tried answerdotai/ModernBERT-base but performance very poor"
   ]
  },
  {
   "cell_type": "code",
   "execution_count": null,
   "metadata": {},
   "outputs": [],
   "source": [
    "from transformers import pipeline\n",
    "\n",
    "results = []\n",
    "pipe = pipeline(\"zero-shot-classification\", model=\"facebook/bart-large-mnli\")\n",
    "for i in data.index:\n",
    "    results.append(\n",
    "        pipe(data.loc[i], labels, multi_label=True)\n",
    "    )"
   ]
  },
  {
   "cell_type": "markdown",
   "metadata": {},
   "source": [
    "## Multilabel\n",
    "\n",
    "If predicted probability > 0.5, use label. if no labels > 0.5, use max predicted prob as label"
   ]
  },
  {
   "cell_type": "code",
   "execution_count": null,
   "metadata": {},
   "outputs": [],
   "source": [
    "for r in results:\n",
    "    predicted_labels = []\n",
    "    for idx in range(0, len(r[\"scores\"])) :\n",
    "        if r[\"scores\"][idx] > 0.5:\n",
    "            predicted_labels.append(r[\"labels\"][idx])\n",
    "    if len(predicted_labels) < 1:\n",
    "        predicted_labels.append(r[\"labels\"][r[\"scores\"].index(max(r[\"scores\"]))])\n",
    "    r[\"predicted_labels\"] = predicted_labels"
   ]
  },
  {
   "cell_type": "code",
   "execution_count": null,
   "metadata": {},
   "outputs": [],
   "source": [
    "results_df = pd.DataFrame(results)\n",
    "results_df[[\"sequence\", \"predicted_labels\"]]"
   ]
  },
  {
   "cell_type": "code",
   "execution_count": null,
   "metadata": {},
   "outputs": [],
   "source": [
    "results_df.loc[429][\"sequence\"]"
   ]
  },
  {
   "cell_type": "markdown",
   "metadata": {},
   "source": [
    "## Add human in the loop: finetune the model to correct its mistakes"
   ]
  },
  {
   "cell_type": "code",
   "execution_count": null,
   "metadata": {},
   "outputs": [],
   "source": [
    "# Check 10 random rows from the dataset. correct them if wrong\n",
    "\n",
    "import random\n",
    "\n",
    "for i in random.sample(list(results_df.index), 10):\n",
    "    print(i)\n",
    "    print(f'Text: {results_df.loc[i, \"sequence\"]}')\n",
    "    print(f'Labels: {results_df.loc[i,\"predicted_labels\"]}')"
   ]
  },
  {
   "cell_type": "markdown",
   "metadata": {},
   "source": [
    "## This is manual correcting, which is gross, but I would build in a nice UI to correct the labels properly"
   ]
  },
  {
   "cell_type": "code",
   "execution_count": null,
   "metadata": {},
   "outputs": [],
   "source": [
    "results_df[\"corrected_labels\"] = results_df[\"predicted_labels\"].copy()\n",
    "results_df.at[124, \"corrected_labels\"] = [\"Communications and engagement\"]\n",
    "results_df.at[282, \"corrected_labels\"] = [\"Other\"]\n",
    "results_df.at[168, \"corrected_labels\"] = [\"Communications and engagement\"]\n",
    "results_df.at[398, \"corrected_labels\"] = ['Funding', 'Communications and engagement', 'Workforce']\n",
    "results_df.at[79, \"corrected_labels\"] = ['Other']\n",
    "results_df.at[339, \"corrected_labels\"] = ['Other']\n",
    "results_df.at[231, \"corrected_labels\"] = ['Other']\n",
    "results_df.at[160, \"corrected_labels\"] = ['Workforce']\n",
    "results_df.at[433, \"corrected_labels\"] = ['Other']\n",
    "results_df.at[431, \"corrected_labels\"] = ['Governance']"
   ]
  },
  {
   "cell_type": "code",
   "execution_count": null,
   "metadata": {},
   "outputs": [],
   "source": [
    "results_df[[\"sequence\", \"corrected_labels\"]]"
   ]
  },
  {
   "cell_type": "markdown",
   "metadata": {},
   "source": [
    "## Retrain model"
   ]
  },
  {
   "cell_type": "code",
   "execution_count": null,
   "metadata": {},
   "outputs": [],
   "source": [
    "import numpy as np\n",
    "from sklearn.model_selection import train_test_split\n",
    "from sklearn.preprocessing import MultiLabelBinarizer\n",
    "import tensorflow as tf\n",
    "from transformers import BartTokenizer, BartForSequenceClassification, Trainer, TrainingArguments, AutoModelForSequenceClassification\n",
    "from transformers import create_optimizer\n",
    "import torch\n",
    "from torch.utils.data import Dataset"
   ]
  },
  {
   "cell_type": "code",
   "execution_count": null,
   "metadata": {},
   "outputs": [],
   "source": [
    "# Binarize labels\n",
    "mlb = MultiLabelBinarizer(classes=labels)\n",
    "binarized_labels = mlb.fit_transform(results_df['corrected_labels'])\n",
    "\n",
    "# Train/val split\n",
    "train_texts, val_texts, train_labels, val_labels = train_test_split(\n",
    "    results_df['sequence'].tolist(),\n",
    "    binarized_labels,\n",
    "    test_size=0.2,\n",
    "    random_state=42\n",
    ")\n",
    "\n",
    "# Load tokenizer\n",
    "model_name = \"facebook/bart-large-mnli\"\n",
    "# Load tokenizer\n",
    "tokenizer = BartTokenizer.from_pretrained('facebook/bart-large-mnli')\n",
    "\n",
    "# Dataset class\n",
    "class MultiLabelDataset(Dataset):\n",
    "    def __init__(self, texts, labels, tokenizer, max_length=512):\n",
    "        self.encodings = tokenizer(texts, truncation=True, padding=True, max_length=max_length, return_tensors=\"pt\")\n",
    "        self.labels = labels\n",
    "\n",
    "    def __getitem__(self, idx):\n",
    "        item = {key: torch.tensor(val[idx]) for key, val in self.encodings.items()}\n",
    "        item['labels'] = torch.tensor(self.labels[idx], dtype=torch.float)\n",
    "        return item\n",
    "\n",
    "    def __len__(self):\n",
    "        return len(self.labels)\n",
    "    \n",
    "# Create datasets\n",
    "train_dataset = MultiLabelDataset(train_texts, train_labels, tokenizer)\n",
    "val_dataset = MultiLabelDataset(val_texts, val_labels, tokenizer)"
   ]
  },
  {
   "cell_type": "code",
   "execution_count": null,
   "metadata": {},
   "outputs": [],
   "source": [
    "# Load model\n",
    "model = AutoModelForSequenceClassification.from_pretrained(\n",
    "    model_name,\n",
    "    num_labels=len(labels),\n",
    "    problem_type=\"multi_label_classification\",\n",
    "    ignore_mismatched_sizes=True\n",
    ")\n",
    "\n",
    "# Training arguments\n",
    "training_args = TrainingArguments(\n",
    "    output_dir='./results',\n",
    "    eval_strategy=\"epoch\",\n",
    "    save_strategy=\"epoch\",\n",
    "    per_device_train_batch_size=4,\n",
    "    per_device_eval_batch_size=4,\n",
    "    num_train_epochs=4,\n",
    "    weight_decay=0.01,\n",
    "    logging_dir='./logs',\n",
    "    logging_steps=10,\n",
    "    load_best_model_at_end=True,\n",
    "    metric_for_best_model=\"eval_loss\"\n",
    ")\n",
    "\n",
    "\n",
    "# Trainer\n",
    "trainer = Trainer(\n",
    "    model=model,\n",
    "    args=training_args,\n",
    "    train_dataset=train_dataset,\n",
    "    eval_dataset=val_dataset,\n",
    ")\n",
    "\n",
    "# Train\n",
    "trainer.train()"
   ]
  },
  {
   "cell_type": "code",
   "execution_count": null,
   "metadata": {},
   "outputs": [],
   "source": [
    "# Save model\n",
    "trainer.save_model(\"./bart-multilabel-model\")\n",
    "\n",
    "# Save tokenizer\n",
    "tokenizer.save_pretrained(\"./bart-multilabel-model\")"
   ]
  },
  {
   "cell_type": "markdown",
   "metadata": {},
   "source": [
    "## Make predictions with finetuned model"
   ]
  },
  {
   "cell_type": "code",
   "execution_count": null,
   "metadata": {},
   "outputs": [],
   "source": [
    "texts = results_df[\"sequence\"].tolist()\n",
    "encodings = tokenizer(texts, truncation=True, padding=True, max_length=512, return_tensors=\"pt\")\n",
    "device = torch.device(\"cuda\" if torch.cuda.is_available() else \"cpu\")\n",
    "model.to(device)\n",
    "encodings = {k: v.to(device) for k, v in encodings.items()}\n",
    "\n",
    "# Predict\n",
    "model.eval()\n",
    "with torch.no_grad():\n",
    "    outputs = model(**encodings)\n",
    "    probs = torch.sigmoid(outputs.logits)\n",
    "\n",
    "preds = (probs > 0.5).int().cpu().numpy()\n",
    "\n",
    "predicted_labels = mlb.inverse_transform(preds)\n",
    "\n",
    "results_df[\"predicted_labels_2\"] = predicted_labels"
   ]
  },
  {
   "cell_type": "code",
   "execution_count": null,
   "metadata": {},
   "outputs": [],
   "source": [
    "results_df.head()"
   ]
  },
  {
   "cell_type": "code",
   "execution_count": null,
   "metadata": {},
   "outputs": [],
   "source": [
    "results_df.to_csv(\"zero_shot_with_bart-large-mnli.csv\", index=False)"
   ]
  }
 ],
 "metadata": {
  "kernelspec": {
   "display_name": "text_experiment",
   "language": "python",
   "name": "python3"
  },
  "language_info": {
   "codemirror_mode": {
    "name": "ipython",
    "version": 3
   },
   "file_extension": ".py",
   "mimetype": "text/x-python",
   "name": "python",
   "nbconvert_exporter": "python",
   "pygments_lexer": "ipython3",
   "version": "3.11.12"
  }
 },
 "nbformat": 4,
 "nbformat_minor": 2
}
